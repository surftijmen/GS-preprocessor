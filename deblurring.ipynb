{
 "cells": [
  {
   "cell_type": "markdown",
   "metadata": {},
   "source": [
    "\n",
    "# 05. Image deblurring\n",
    "*Deblurring* is the process of removing blurring effects from images, caused for\n",
    "example by defocus aberration or motion blur.\n",
    "\n",
    "In forward mode, such blurring effect is typically modelled as a 2-dimensional\n",
    "convolution between the so-called *point spread function* and a target\n",
    "sharp input image, where the sharp input image (which has to be recovered) is\n",
    "unknown and the point-spread function can be either known or unknown.\n",
    "\n",
    "In this tutorial, an example of 2d blurring and deblurring will be shown using\n",
    "the :py:class:`pylops.signalprocessing.Convolve2D` operator assuming knowledge\n",
    "of the point-spread function.\n"
   ]
  },
  {
   "cell_type": "code",
   "execution_count": null,
   "metadata": {
    "collapsed": false
   },
   "outputs": [],
   "source": [
    "import matplotlib.pyplot as plt\n",
    "import numpy as np\n",
    "\n",
    "import pylops\n"
   ]
  },
  {
   "cell_type": "markdown",
   "metadata": {},
   "source": [
    "Let's start by importing a 2d image and defining the blurring operator\n",
    "\n"
   ]
  },
  {
   "cell_type": "code",
   "execution_count": null,
   "metadata": {
    "collapsed": false
   },
   "outputs": [],
   "source": [
    "im = np.load(\"image.npy\")[::5, ::5, 0]\n",
    "\n",
    "Nz, Nx = im.shape\n",
    "\n",
    "# Blurring guassian operator\n",
    "nh = [15, 25]\n",
    "hz = np.exp(-0.1 * np.linspace(-(nh[0] // 2), nh[0] // 2, nh[0]) ** 2)\n",
    "hx = np.exp(-0.03 * np.linspace(-(nh[1] // 2), nh[1] // 2, nh[1]) ** 2)\n",
    "hz /= np.trapz(hz)  # normalize the integral to 1\n",
    "hx /= np.trapz(hx)  # normalize the integral to 1\n",
    "h = hz[:, np.newaxis] * hx[np.newaxis, :]\n",
    "\n",
    "fig, ax = plt.subplots(1, 1, figsize=(5, 3))\n",
    "him = ax.imshow(h)\n",
    "ax.set_title(\"Blurring operator\")\n",
    "fig.colorbar(him, ax=ax)\n",
    "ax.axis(\"tight\")\n",
    "\n",
    "Cop = pylops.signalprocessing.Convolve2D(\n",
    "    (Nz, Nx), h=h, offset=(nh[0] // 2, nh[1] // 2), dtype=\"float32\"\n",
    ")"
   ]
  },
  {
   "cell_type": "markdown",
   "metadata": {},
   "source": [
    "We first apply the blurring operator to the sharp image. We then\n",
    "try to recover the sharp input image by inverting the convolution operator\n",
    "from the blurred image. Note that when we perform inversion without any\n",
    "regularization, the deblurred image will show some ringing due to the\n",
    "instabilities of the inverse process. Using a L1 solver with a DWT\n",
    "preconditioner or TV regularization allows to recover sharper contrasts.\n",
    "\n"
   ]
  },
  {
   "cell_type": "code",
   "execution_count": null,
   "metadata": {
    "collapsed": false
   },
   "outputs": [],
   "source": [
    "imblur = Cop * im\n",
    "\n",
    "imdeblur = pylops.optimization.leastsquares.normal_equations_inversion(\n",
    "    Cop, imblur.ravel(), None, maxiter=50  # solvers need 1D arrays\n",
    ")[0]\n",
    "imdeblur = imdeblur.reshape(Cop.dims)\n",
    "\n",
    "Wop = pylops.signalprocessing.DWT2D((Nz, Nx), wavelet=\"haar\", level=3)\n",
    "Dop = [\n",
    "    pylops.FirstDerivative((Nz, Nx), axis=0, edge=False),\n",
    "    pylops.FirstDerivative((Nz, Nx), axis=1, edge=False),\n",
    "]\n",
    "DWop = Dop + [Wop]\n",
    "\n",
    "imdeblurfista = pylops.optimization.sparsity.fista(\n",
    "    Cop * Wop.H, imblur.ravel(), eps=1e-1, niter=100\n",
    ")[0]\n",
    "imdeblurfista = imdeblurfista.reshape((Cop * Wop.H).dims)\n",
    "imdeblurfista = Wop.H * imdeblurfista\n",
    "\n",
    "imdeblurtv = pylops.optimization.sparsity.splitbregman(\n",
    "    Cop,\n",
    "    imblur.ravel(),\n",
    "    Dop,\n",
    "    niter_outer=10,\n",
    "    niter_inner=5,\n",
    "    mu=5,\n",
    "    epsRL1s=[2e0, 2e0],\n",
    "    tol=1e-4,\n",
    "    tau=1.0,\n",
    "    show=False,\n",
    "    **dict(iter_lim=5, damp=1e-4)\n",
    ")[0]\n",
    "imdeblurtv = imdeblurtv.reshape(Cop.dims)\n",
    "\n",
    "imdeblurtv1 = pylops.optimization.sparsity.splitbregman(\n",
    "    Cop,\n",
    "    imblur.ravel(),\n",
    "    DWop,\n",
    "    niter_outer=10,\n",
    "    niter_inner=5,\n",
    "    mu=1.5,\n",
    "    epsRL1s=[1e0, 1e0, 1e0],\n",
    "    tol=1e-4,\n",
    "    tau=1.0,\n",
    "    show=False,\n",
    "    **dict(iter_lim=5, damp=1e-4)\n",
    ")[0]\n",
    "imdeblurtv1 = imdeblurtv1.reshape(Cop.dims)"
   ]
  },
  {
   "cell_type": "markdown",
   "metadata": {},
   "source": [
    "Finally we visualize the original, blurred, and recovered images.\n",
    "\n"
   ]
  },
  {
   "cell_type": "code",
   "execution_count": null,
   "metadata": {},
   "outputs": [],
   "source": [
    "# sphinx_gallery_thumbnail_number = 2\n",
    "fig = plt.figure(figsize=(12, 6))\n",
    "fig.suptitle(\"Deblurring\", fontsize=14, fontweight=\"bold\", y=0.95)\n",
    "ax1 = plt.subplot2grid((2, 5), (0, 0))\n",
    "ax2 = plt.subplot2grid((2, 5), (0, 1))\n",
    "ax3 = plt.subplot2grid((2, 5), (0, 2))\n",
    "ax4 = plt.subplot2grid((2, 5), (1, 0))\n",
    "ax5 = plt.subplot2grid((2, 5), (1, 1))\n",
    "ax6 = plt.subplot2grid((2, 5), (1, 2))\n",
    "ax7 = plt.subplot2grid((2, 5), (0, 3), colspan=2)\n",
    "ax8 = plt.subplot2grid((2, 5), (1, 3), colspan=2)\n",
    "ax1.imshow(im, cmap=\"gray\", vmin=0, vmax=250)\n",
    "ax1.axis(\"tight\")\n",
    "ax1.set_title(\"Original\")\n",
    "ax2.imshow(imblur, cmap=\"gray\", vmin=0, vmax=250)\n",
    "ax2.axis(\"tight\")\n",
    "ax2.set_title(\"Blurred\")\n",
    "ax3.imshow(imdeblur, cmap=\"gray\", vmin=0, vmax=250)\n",
    "plt.imsave('blur.png', imblur, cmap='gray', vmin=0, vmax=250)\n",
    "\n",
    "ax3.axis(\"tight\")\n",
    "ax3.set_title(\"Deblurred\")\n",
    "ax4.imshow(imdeblurfista, cmap=\"gray\", vmin=0, vmax=250)\n",
    "ax4.axis(\"tight\")\n",
    "ax4.set_title(\"FISTA deblurred\")\n",
    "ax5.imshow(imdeblurtv, cmap=\"gray\", vmin=0, vmax=250)\n",
    "ax5.axis(\"tight\")\n",
    "ax5.set_title(\"TV deblurred\")\n",
    "ax6.imshow(imdeblurtv1, cmap=\"gray\", vmin=0, vmax=250)\n",
    "ax6.axis(\"tight\")\n",
    "ax6.set_title(\"TV+Haar deblurred\")\n",
    "ax7.plot(im[Nz // 2], \"k\")\n",
    "ax7.plot(imblur[Nz // 2], \"--r\")\n",
    "ax7.plot(imdeblur[Nz // 2], \"--b\")\n",
    "ax7.plot(imdeblurfista[Nz // 2], \"--g\")\n",
    "ax7.plot(imdeblurtv[Nz // 2], \"--m\")\n",
    "ax7.plot(imdeblurtv1[Nz // 2], \"--y\")\n",
    "ax7.axis(\"tight\")\n",
    "ax7.set_title(\"Horizontal section\")\n",
    "ax8.plot(im[:, Nx // 2], \"k\", label=\"Original\")\n",
    "ax8.plot(imblur[:, Nx // 2], \"--r\", label=\"Blurred\")\n",
    "ax8.plot(imdeblur[:, Nx // 2], \"--b\", label=\"Deblurred\")\n",
    "ax8.plot(imdeblurfista[:, Nx // 2], \"--g\", label=\"FISTA deblurred\")\n",
    "ax8.plot(imdeblurtv[:, Nx // 2], \"--m\", label=\"TV deblurred\")\n",
    "ax8.plot(imdeblurtv1[:, Nx // 2], \"--y\", label=\"TV+Haar deblurred\")\n",
    "ax8.axis(\"tight\")\n",
    "ax8.set_title(\"Vertical section\")\n",
    "ax8.legend(loc=5, fontsize=\"small\")\n",
    "plt.tight_layout()\n",
    "plt.subplots_adjust(top=0.8)\n",
    "plt.imsave('imdeblurtv.png', imdeblurtv, cmap='gray', vmin=0, vmax=250)\n"
   ]
  }
 ],
 "metadata": {
  "kernelspec": {
   "display_name": "Python 3",
   "language": "python",
   "name": "python3"
  },
  "language_info": {
   "codemirror_mode": {
    "name": "ipython",
    "version": 3
   },
   "file_extension": ".py",
   "mimetype": "text/x-python",
   "name": "python",
   "nbconvert_exporter": "python",
   "pygments_lexer": "ipython3",
   "version": "3.11.5"
  }
 },
 "nbformat": 4,
 "nbformat_minor": 0
}
